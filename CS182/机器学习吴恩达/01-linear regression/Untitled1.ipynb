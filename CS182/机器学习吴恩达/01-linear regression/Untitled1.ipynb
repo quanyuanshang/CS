{
 "cells": [
  {
   "cell_type": "code",
   "execution_count": 57,
   "id": "328dee8d-99a5-4a53-9a68-3e4cfd17b0e8",
   "metadata": {},
   "outputs": [],
   "source": [
    "import numpy as np\n",
    "import pandas as pd\n",
    "import matplotlib.pyplot as plt"
   ]
  },
  {
   "cell_type": "code",
   "execution_count": 58,
   "id": "8fc646c2-0050-4f7e-b0b5-84b45b214160",
   "metadata": {},
   "outputs": [
    {
     "data": {
      "text/html": [
       "<div>\n",
       "<style scoped>\n",
       "    .dataframe tbody tr th:only-of-type {\n",
       "        vertical-align: middle;\n",
       "    }\n",
       "\n",
       "    .dataframe tbody tr th {\n",
       "        vertical-align: top;\n",
       "    }\n",
       "\n",
       "    .dataframe thead th {\n",
       "        text-align: right;\n",
       "    }\n",
       "</style>\n",
       "<table border=\"1\" class=\"dataframe\">\n",
       "  <thead>\n",
       "    <tr style=\"text-align: right;\">\n",
       "      <th></th>\n",
       "      <th>size</th>\n",
       "      <th>bedroom</th>\n",
       "      <th>price</th>\n",
       "    </tr>\n",
       "  </thead>\n",
       "  <tbody>\n",
       "    <tr>\n",
       "      <th>0</th>\n",
       "      <td>2104</td>\n",
       "      <td>3</td>\n",
       "      <td>399900</td>\n",
       "    </tr>\n",
       "    <tr>\n",
       "      <th>1</th>\n",
       "      <td>1600</td>\n",
       "      <td>3</td>\n",
       "      <td>329900</td>\n",
       "    </tr>\n",
       "    <tr>\n",
       "      <th>2</th>\n",
       "      <td>2400</td>\n",
       "      <td>3</td>\n",
       "      <td>369000</td>\n",
       "    </tr>\n",
       "    <tr>\n",
       "      <th>3</th>\n",
       "      <td>1416</td>\n",
       "      <td>2</td>\n",
       "      <td>232000</td>\n",
       "    </tr>\n",
       "    <tr>\n",
       "      <th>4</th>\n",
       "      <td>3000</td>\n",
       "      <td>4</td>\n",
       "      <td>539900</td>\n",
       "    </tr>\n",
       "  </tbody>\n",
       "</table>\n",
       "</div>"
      ],
      "text/plain": [
       "   size  bedroom   price\n",
       "0  2104        3  399900\n",
       "1  1600        3  329900\n",
       "2  2400        3  369000\n",
       "3  1416        2  232000\n",
       "4  3000        4  539900"
      ]
     },
     "execution_count": 58,
     "metadata": {},
     "output_type": "execute_result"
    }
   ],
   "source": [
    "data=pd.read_csv(\"ex1data2.txt\",names=[\"size\",\"bedroom\",\"price\"])\n",
    "data.head()"
   ]
  },
  {
   "cell_type": "code",
   "execution_count": 59,
   "id": "52ad8dd4-3031-40b8-a82f-238615ef96cb",
   "metadata": {},
   "outputs": [],
   "source": [
    "def normalize(data):\n",
    "    return (data-data.mean())/data.std()"
   ]
  },
  {
   "cell_type": "code",
   "execution_count": 60,
   "id": "577b6a3e-f6d4-4292-b251-d2f243665653",
   "metadata": {},
   "outputs": [],
   "source": [
    "data=normalize(data)"
   ]
  },
  {
   "cell_type": "code",
   "execution_count": 61,
   "id": "e0366001-b69f-4075-9eea-e44db0a70c68",
   "metadata": {},
   "outputs": [
    {
     "data": {
      "text/html": [
       "<div>\n",
       "<style scoped>\n",
       "    .dataframe tbody tr th:only-of-type {\n",
       "        vertical-align: middle;\n",
       "    }\n",
       "\n",
       "    .dataframe tbody tr th {\n",
       "        vertical-align: top;\n",
       "    }\n",
       "\n",
       "    .dataframe thead th {\n",
       "        text-align: right;\n",
       "    }\n",
       "</style>\n",
       "<table border=\"1\" class=\"dataframe\">\n",
       "  <thead>\n",
       "    <tr style=\"text-align: right;\">\n",
       "      <th></th>\n",
       "      <th>size</th>\n",
       "      <th>bedroom</th>\n",
       "      <th>price</th>\n",
       "    </tr>\n",
       "  </thead>\n",
       "  <tbody>\n",
       "    <tr>\n",
       "      <th>0</th>\n",
       "      <td>0.130010</td>\n",
       "      <td>-0.223675</td>\n",
       "      <td>0.475747</td>\n",
       "    </tr>\n",
       "    <tr>\n",
       "      <th>1</th>\n",
       "      <td>-0.504190</td>\n",
       "      <td>-0.223675</td>\n",
       "      <td>-0.084074</td>\n",
       "    </tr>\n",
       "    <tr>\n",
       "      <th>2</th>\n",
       "      <td>0.502476</td>\n",
       "      <td>-0.223675</td>\n",
       "      <td>0.228626</td>\n",
       "    </tr>\n",
       "    <tr>\n",
       "      <th>3</th>\n",
       "      <td>-0.735723</td>\n",
       "      <td>-1.537767</td>\n",
       "      <td>-0.867025</td>\n",
       "    </tr>\n",
       "    <tr>\n",
       "      <th>4</th>\n",
       "      <td>1.257476</td>\n",
       "      <td>1.090417</td>\n",
       "      <td>1.595389</td>\n",
       "    </tr>\n",
       "  </tbody>\n",
       "</table>\n",
       "</div>"
      ],
      "text/plain": [
       "       size   bedroom     price\n",
       "0  0.130010 -0.223675  0.475747\n",
       "1 -0.504190 -0.223675 -0.084074\n",
       "2  0.502476 -0.223675  0.228626\n",
       "3 -0.735723 -1.537767 -0.867025\n",
       "4  1.257476  1.090417  1.595389"
      ]
     },
     "execution_count": 61,
     "metadata": {},
     "output_type": "execute_result"
    }
   ],
   "source": [
    "\n",
    "data.head()"
   ]
  },
  {
   "cell_type": "code",
   "execution_count": 62,
   "id": "5cb443b8-6688-4d75-adb7-067c20b3db60",
   "metadata": {},
   "outputs": [],
   "source": [
    "data.insert(0,\"ones\",1)"
   ]
  },
  {
   "cell_type": "code",
   "execution_count": 63,
   "id": "93c6a9c8-e809-46cc-b630-914bd0d3cf43",
   "metadata": {},
   "outputs": [
    {
     "data": {
      "text/html": [
       "<div>\n",
       "<style scoped>\n",
       "    .dataframe tbody tr th:only-of-type {\n",
       "        vertical-align: middle;\n",
       "    }\n",
       "\n",
       "    .dataframe tbody tr th {\n",
       "        vertical-align: top;\n",
       "    }\n",
       "\n",
       "    .dataframe thead th {\n",
       "        text-align: right;\n",
       "    }\n",
       "</style>\n",
       "<table border=\"1\" class=\"dataframe\">\n",
       "  <thead>\n",
       "    <tr style=\"text-align: right;\">\n",
       "      <th></th>\n",
       "      <th>ones</th>\n",
       "      <th>size</th>\n",
       "      <th>bedroom</th>\n",
       "      <th>price</th>\n",
       "    </tr>\n",
       "  </thead>\n",
       "  <tbody>\n",
       "    <tr>\n",
       "      <th>0</th>\n",
       "      <td>1</td>\n",
       "      <td>0.130010</td>\n",
       "      <td>-0.223675</td>\n",
       "      <td>0.475747</td>\n",
       "    </tr>\n",
       "    <tr>\n",
       "      <th>1</th>\n",
       "      <td>1</td>\n",
       "      <td>-0.504190</td>\n",
       "      <td>-0.223675</td>\n",
       "      <td>-0.084074</td>\n",
       "    </tr>\n",
       "    <tr>\n",
       "      <th>2</th>\n",
       "      <td>1</td>\n",
       "      <td>0.502476</td>\n",
       "      <td>-0.223675</td>\n",
       "      <td>0.228626</td>\n",
       "    </tr>\n",
       "    <tr>\n",
       "      <th>3</th>\n",
       "      <td>1</td>\n",
       "      <td>-0.735723</td>\n",
       "      <td>-1.537767</td>\n",
       "      <td>-0.867025</td>\n",
       "    </tr>\n",
       "    <tr>\n",
       "      <th>4</th>\n",
       "      <td>1</td>\n",
       "      <td>1.257476</td>\n",
       "      <td>1.090417</td>\n",
       "      <td>1.595389</td>\n",
       "    </tr>\n",
       "  </tbody>\n",
       "</table>\n",
       "</div>"
      ],
      "text/plain": [
       "   ones      size   bedroom     price\n",
       "0     1  0.130010 -0.223675  0.475747\n",
       "1     1 -0.504190 -0.223675 -0.084074\n",
       "2     1  0.502476 -0.223675  0.228626\n",
       "3     1 -0.735723 -1.537767 -0.867025\n",
       "4     1  1.257476  1.090417  1.595389"
      ]
     },
     "execution_count": 63,
     "metadata": {},
     "output_type": "execute_result"
    }
   ],
   "source": [
    "data.head()"
   ]
  },
  {
   "cell_type": "code",
   "execution_count": 64,
   "id": "56f590b3-f16f-4ebf-8828-15b481ec7d2d",
   "metadata": {},
   "outputs": [],
   "source": [
    "X=data.iloc[:,0:-1]"
   ]
  },
  {
   "cell_type": "code",
   "execution_count": 65,
   "id": "b9a87b37-0130-4575-b556-bb8366fb43a5",
   "metadata": {},
   "outputs": [],
   "source": [
    "y=data.iloc[:,-1]"
   ]
  },
  {
   "cell_type": "code",
   "execution_count": 66,
   "id": "3556bc05-61a7-4f89-bb4a-61a37aa63db4",
   "metadata": {},
   "outputs": [],
   "source": [
    "X=X.values\n",
    "X.shape\n",
    "y=y.values\n",
    "y=y.reshape(47,1)"
   ]
  },
  {
   "cell_type": "code",
   "execution_count": 78,
   "id": "ea4c7530-01f3-4892-9c7e-12040ce42247",
   "metadata": {},
   "outputs": [],
   "source": [
    "def costFunction(X,y,theta):\n",
    "    inner=np.power(X@theta-y,2)\n",
    "    return np.sum(inner)/(2*len(X))\n"
   ]
  },
  {
   "cell_type": "code",
   "execution_count": 80,
   "id": "00244e6e-89d2-4a31-8562-4beed06e9e51",
   "metadata": {},
   "outputs": [
    {
     "data": {
      "text/plain": [
       "(3, 1)"
      ]
     },
     "execution_count": 80,
     "metadata": {},
     "output_type": "execute_result"
    }
   ],
   "source": [
    "theta=np.zeros((3,1))\n",
    "theta.shape"
   ]
  },
  {
   "cell_type": "code",
   "execution_count": 82,
   "id": "44b26b40-a224-4702-bc04-2e1c539a60b0",
   "metadata": {},
   "outputs": [
    {
     "name": "stdout",
     "output_type": "stream",
     "text": [
      "0.48936170212765967\n"
     ]
    }
   ],
   "source": [
    "cost_int=costFunction(X,y,theta)\n",
    "print(cost_int)"
   ]
  },
  {
   "cell_type": "code",
   "execution_count": 84,
   "id": "6a50e571-f5d4-41e7-88ed-bef5679b4314",
   "metadata": {},
   "outputs": [],
   "source": [
    "def gradient_descent(X,y,theta,alpha,iters):\n",
    "    costs=[]\n",
    "    for i in range (iters):\n",
    "        theta=theta-(X.T @(X@theta-y))*alpha/len(X)\n",
    "        cost=costFunction(X,y,theta)\n",
    "        costs.append(cost)\n",
    "        if i %100==0:\n",
    "            print(cost)\n",
    "    return theta,costs"
   ]
  },
  {
   "cell_type": "code",
   "execution_count": 90,
   "id": "12e7a9f3-c28d-4a73-8879-d2bfa2742042",
   "metadata": {},
   "outputs": [],
   "source": [
    "alphas=[0.0003,0.003,0.3,0.0001,0.01]\n",
    "iters=2000\n"
   ]
  },
  {
   "cell_type": "code",
   "execution_count": 105,
   "id": "020aa907-191d-42fc-98e4-0ba632288a2d",
   "metadata": {},
   "outputs": [
    {
     "name": "stdout",
     "output_type": "stream",
     "text": [
      "0.9755322703427683\n",
      "0.9558137007620595\n",
      "0.9376051860209375\n",
      "0.9207800338379413\n",
      "0.9052225036480321\n",
      "0.8908268513169454\n",
      "0.8774964574040106\n",
      "0.8651430316606789\n",
      "0.8536858870922168\n",
      "0.8430512774941724\n",
      "0.8331717929082424\n",
      "0.8239858079285081\n",
      "0.8154369782327777\n",
      "0.8074737811186815\n",
      "0.8000490961936326\n",
      "0.7931198227048794\n",
      "0.7866465303034761\n",
      "0.7805931403166664\n",
      "0.7749266348592747\n",
      "0.7696167913483709\n",
      "0.9736885480668048\n",
      "0.8321609452812577\n",
      "0.7640665236669438\n",
      "0.7279308644956569\n",
      "0.7065936948632622\n",
      "0.6927392222131842\n",
      "0.683087902287259\n",
      "0.6760533914084844\n",
      "0.6707884648523565\n",
      "0.6667897214236401\n",
      "0.6637286590780754\n",
      "0.6613756587200359\n",
      "0.6595630148739016\n",
      "0.6581650640947052\n",
      "0.6570863042881961\n",
      "0.6562536036880454\n",
      "0.6556107370199997\n",
      "0.655114386974425\n",
      "0.6547311447171548\n",
      "0.6544352289496618\n",
      "0.8116356171997179\n",
      "0.6534324026953098\n",
      "0.6534324026952099\n",
      "0.6534324026952097\n",
      "0.6534324026952097\n",
      "0.6534324026952097\n",
      "0.65343240269521\n",
      "0.6534324026952097\n",
      "0.65343240269521\n",
      "0.6534324026952097\n",
      "0.6534324026952097\n",
      "0.6534324026952097\n",
      "0.6534324026952097\n",
      "0.6534324026952097\n",
      "0.6534324026952097\n",
      "0.6534324026952097\n",
      "0.6534324026952097\n",
      "0.6534324026952097\n",
      "0.6534324026952097\n",
      "0.65343240269521\n",
      "0.9756691079349693\n",
      "0.9689174451794806\n",
      "0.9623436319897745\n",
      "0.9559425355732729\n",
      "0.9497091756579559\n",
      "0.943638719921018\n",
      "0.9377264795548753\n",
      "0.9319679049663961\n",
      "0.9263585816053497\n",
      "0.920894225918185\n",
      "0.9155706814233752\n",
      "0.9103839149046673\n",
      "0.9053300127187\n",
      "0.9004051772135402\n",
      "0.8956057232548146\n",
      "0.8909280748561934\n",
      "0.8863687619110917\n",
      "0.8819244170225451\n",
      "0.8775917724283095\n",
      "0.873367657018317\n",
      "0.9689396175624673\n",
      "0.7189160082000274\n",
      "0.677938148327602\n",
      "0.6636255462235832\n",
      "0.657725350222053\n",
      "0.6552429046819016\n",
      "0.6541960760156406\n",
      "0.6537545268967725\n",
      "0.6535682777931767\n",
      "0.65348971613448\n",
      "0.6534565780624436\n",
      "0.6534426001007346\n",
      "0.6534367040602506\n",
      "0.6534342170529078\n",
      "0.6534331680089708\n",
      "0.6534327255120135\n",
      "0.653432538862484\n",
      "0.6534324601318933\n",
      "0.6534324269225626\n",
      "0.6534324129145433\n"
     ]
    },
    {
     "data": {
      "image/png": "[encoded data removed]",
      "text/plain": [
       "<Figure size 640x480 with 1 Axes>"
      ]
     },
     "metadata": {},
     "output_type": "display_data"
    }
   ],
   "source": [
    "fig,ax=plt.subplots()#ax是示例\n",
    "for alpha in alphas:\n",
    "    _,costs=gradient_descent(X,y,theta,alpha,iters)\n",
    "    ax.plot(np.arange(iters),costs,label=alpha)\n",
    "    ax.legend()\n",
    "ax.set(xlabel='iters',ylabel='cost',title='c vs i')\n",
    "plt.show()"
   ]
  },
  {
   "cell_type": "code",
   "execution_count": null,
   "id": "a5c66838-05e4-4b2e-8dbe-4c2175833001",
   "metadata": {},
   "outputs": [],
   "source": []
  }
 ],
 "metadata": {
  "kernelspec": {
   "display_name": "Python 3 (ipykernel)",
   "language": "python",
   "name": "python3"
  },
  "language_info": {
   "codemirror_mode": {
    "name": "ipython",
    "version": 3
   },
   "file_extension": ".py",
   "mimetype": "text/x-python",
   "name": "python",
   "nbconvert_exporter": "python",
   "pygments_lexer": "ipython3",
   "version": "3.12.7"
  }
 },
 "nbformat": 4,
 "nbformat_minor": 5
}
