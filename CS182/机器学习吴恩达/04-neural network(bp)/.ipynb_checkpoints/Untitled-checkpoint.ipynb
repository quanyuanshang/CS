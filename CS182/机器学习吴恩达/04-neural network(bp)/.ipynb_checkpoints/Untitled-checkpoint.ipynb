{
 "cells": [
  {
   "cell_type": "markdown",
   "id": "d8e17fca-f2ae-4ad6-b435-d4ca03f8f7ba",
   "metadata": {},
   "source": [
    "# 神经网络解决多分类问题"
   ]
  },
  {
   "cell_type": "code",
   "execution_count": 5,
   "id": "822aee96-2b52-41f7-a986-06273b2b4905",
   "metadata": {},
   "outputs": [],
   "source": [
    "import numpy as np\n",
    "import scipy.io as sio\n",
    "import matplotlib.pyplot as plt\n",
    "from  scipy.optimize import minimize"
   ]
  },
  {
   "cell_type": "code",
   "execution_count": 29,
   "id": "de0dc0c0-b6a3-4324-9ded-37d85ddc927d",
   "metadata": {},
   "outputs": [
    {
     "data": {
      "text/plain": [
       "(5000, 1)"
      ]
     },
     "execution_count": 29,
     "metadata": {},
     "output_type": "execute_result"
    }
   ],
   "source": [
    "data=sio.loadmat('ex4data1.mat')\n",
    "raw_X=data['X']\n",
    "raw_y=data['y']\n",
    "raw_y.shape"
   ]
  },
  {
   "cell_type": "code",
   "execution_count": 31,
   "id": "d9054c0c-6a01-4a6b-97cf-cb6c6ca1b818",
   "metadata": {},
   "outputs": [
    {
     "data": {
      "text/plain": [
       "(5000, 401)"
      ]
     },
     "execution_count": 31,
     "metadata": {},
     "output_type": "execute_result"
    }
   ],
   "source": [
    "X=np.insert(raw_X,0,values=1,axis=1)\n",
    "X.shape\n"
   ]
  },
  {
   "cell_type": "markdown",
   "id": "0939ea13-7b12-49bb-b107-8c18710565e2",
   "metadata": {},
   "source": [
    "#### 1. 对y进行one-hot编码处理"
   ]
  },
  {
   "cell_type": "code",
   "execution_count": 33,
   "id": "572ca914-d465-4560-89fd-b4ef0025b550",
   "metadata": {},
   "outputs": [],
   "source": [
    "def one_hot_encoder(raw_y):\n",
    "    result=[]\n",
    "    for i in raw_y:#raw_y里面放的是对应的数字\n",
    "        y_temp = np.zeros(10)\n",
    "        y_temp[i-1]=1\n",
    "        result.append(y_temp)\n",
    "    return np.array(result)"
   ]
  },
  {
   "cell_type": "code",
   "execution_count": 35,
   "id": "53eea58e-58d1-4569-b9dd-84f14b973b27",
   "metadata": {},
   "outputs": [
    {
     "data": {
      "text/plain": [
       "(5000, 10)"
      ]
     },
     "execution_count": 35,
     "metadata": {},
     "output_type": "execute_result"
    }
   ],
   "source": [
    "y=one_hot_encoder(raw_y)\n",
    "y.shape"
   ]
  },
  {
   "cell_type": "code",
   "execution_count": 45,
   "id": "1f0164e7-14a3-40a1-beef-4ff2acd02040",
   "metadata": {},
   "outputs": [
    {
     "data": {
      "text/plain": [
       "((25, 401), (10, 26))"
      ]
     },
     "execution_count": 45,
     "metadata": {},
     "output_type": "execute_result"
    }
   ],
   "source": [
    "theta = sio.loadmat('ex4weights.mat')\n",
    "theta.keys()\n",
    "theta1,theta2=theta['Theta1'],theta['Theta2']\n",
    "theta1.shape,theta2.shape"
   ]
  },
  {
   "cell_type": "markdown",
   "id": "869193b2-8a38-400b-9290-26747d46860a",
   "metadata": {},
   "source": [
    "### 2.序列化权重参数"
   ]
  },
  {
   "cell_type": "code",
   "execution_count": 50,
   "id": "0984924d-c594-43e9-8a9c-1d2799e34379",
   "metadata": {},
   "outputs": [],
   "source": [
    "def serialize(a,b):\n",
    "    return np.append(a.flatten(),b.flatten())"
   ]
  },
  {
   "cell_type": "code",
   "execution_count": 52,
   "id": "fd42a6ac-dbb8-4d70-a0d1-b049b035e6b0",
   "metadata": {},
   "outputs": [],
   "source": [
    "theta_serialize=serialize(theta1,theta2)"
   ]
  },
  {
   "cell_type": "code",
   "execution_count": 54,
   "id": "29166256-d6e4-4800-b393-afe95000d6ae",
   "metadata": {},
   "outputs": [
    {
     "data": {
      "text/plain": [
       "(10285,)"
      ]
     },
     "execution_count": 54,
     "metadata": {},
     "output_type": "execute_result"
    }
   ],
   "source": [
    "theta_serialize.shape"
   ]
  },
  {
   "cell_type": "markdown",
   "id": "0d5663af-8bed-4a25-be8b-1083cba34e76",
   "metadata": {},
   "source": [
    "### 3. 解序列化权重参数"
   ]
  },
  {
   "cell_type": "code",
   "execution_count": 57,
   "id": "d58a5e5e-fd0b-44e1-80f5-a0956ecccc66",
   "metadata": {},
   "outputs": [],
   "source": [
    "def deserialize(theta_serialize):\n",
    "    theta1=theta_serialize[:25*401].reshape(25,401)\n",
    "    theta2=theta_serialize[25*401:].reshape(10,26)\n",
    "    return theta1,theta2"
   ]
  },
  {
   "cell_type": "code",
   "execution_count": 84,
   "id": "5313f827-0b49-4b5c-8606-3fe7d36823e9",
   "metadata": {},
   "outputs": [
    {
     "data": {
      "text/plain": [
       "(25, 401)"
      ]
     },
     "execution_count": 84,
     "metadata": {},
     "output_type": "execute_result"
    }
   ],
   "source": [
    "theta1,theta2=deserialize(theta_serialize)\n",
    "\n",
    "theta1.shape"
   ]
  },
  {
   "cell_type": "markdown",
   "id": "500cd66d-30d6-4291-8024-1f3cbb3963bb",
   "metadata": {},
   "source": [
    "### 4. 前向传播"
   ]
  },
  {
   "cell_type": "code",
   "execution_count": 62,
   "id": "db50eeec-b5ca-48ab-a930-f101555774f3",
   "metadata": {},
   "outputs": [],
   "source": [
    "def sigmoid(z):\n",
    "    return 1/(1+np.exp(-z))"
   ]
  },
  {
   "cell_type": "code",
   "execution_count": 76,
   "id": "baa1d357-480d-410d-8cee-315f8b00fac0",
   "metadata": {},
   "outputs": [],
   "source": [
    "def feed_forward(theta_serialize,X):\n",
    "    theta1,theta2=deserialize(theta_serialize)\n",
    "    a1=X\n",
    "    z2=a1@theta1.T\n",
    "    a2=sigmoid(z2)\n",
    "    a2=np.insert(a2,0,values=1,axis=1)\n",
    "    z3=a2@theta2.T\n",
    "    h=sigmoid(z3)\n",
    "    return a1,z2,a2,z3,h"
   ]
  },
  {
   "cell_type": "code",
   "execution_count": 66,
   "id": "5125539e-8d8b-4d06-b263-2fb89246444c",
   "metadata": {},
   "outputs": [],
   "source": [
    "### 5. 不带正则化loss"
   ]
  },
  {
   "cell_type": "code",
   "execution_count": 117,
   "id": "24771422-fd39-4899-a1f5-e60e6896ffc9",
   "metadata": {},
   "outputs": [],
   "source": [
    "def cost(theta_serialize,X,y):\n",
    "    a1,z2,a2,z3,h=feed_forward(theta_serialize,X)\n",
    "    h = np.clip(h, 1e-15, 1 - 1e-15)  # 关键修复：数值裁剪\n",
    "    J=-np.sum(y*np.log(h)+(1-y)*np.log(1-h))/len(X)\n",
    "    return J"
   ]
  },
  {
   "cell_type": "code",
   "execution_count": 119,
   "id": "891bb8d4-4bd4-4c06-8ce6-302e66036a57",
   "metadata": {},
   "outputs": [
    {
     "data": {
      "text/plain": [
       "0.2876291651613189"
      ]
     },
     "execution_count": 119,
     "metadata": {},
     "output_type": "execute_result"
    }
   ],
   "source": [
    "cost(theta_serialize,X,y)"
   ]
  },
  {
   "cell_type": "markdown",
   "id": "81dbd2e6-16f1-4e22-b3de-70b208163083",
   "metadata": {},
   "source": [
    "### 5-2 带正则化"
   ]
  },
  {
   "cell_type": "code",
   "execution_count": 89,
   "id": "c44676f2-f36c-4b45-87d3-503384f1d0f0",
   "metadata": {},
   "outputs": [],
   "source": [
    "def reg_cost(theta_serialize,X,y,lam):\n",
    "    sum1=np.sum(np.power(theta1[:,1:],2))\n",
    "    sum2=np.sum(np.power(theta2[:,1:],2))\n",
    "    reg = (sum1+sum2)*lam/(2*len(X))\n",
    "    return reg+cost(theta_serialize,X,y)"
   ]
  },
  {
   "cell_type": "code",
   "execution_count": 91,
   "id": "e4e17d8f-0fb1-4581-892d-9c44b3a1d190",
   "metadata": {},
   "outputs": [
    {
     "data": {
      "text/plain": [
       "0.2972432345542794"
      ]
     },
     "execution_count": 91,
     "metadata": {},
     "output_type": "execute_result"
    }
   ],
   "source": [
    "lam=0.1\n",
    "reg_cost(theta_serialize,X,y,lam)"
   ]
  },
  {
   "cell_type": "code",
   "execution_count": 93,
   "id": "76e244e2-173c-411b-8b34-44afb0215f56",
   "metadata": {},
   "outputs": [],
   "source": [
    "def sigmoid_gradient(z):\n",
    "    return sigmoid(z)*(1-sigmoid(z))"
   ]
  },
  {
   "cell_type": "code",
   "execution_count": 95,
   "id": "32400b62-082a-48fa-962e-9f369ac0ee06",
   "metadata": {},
   "outputs": [],
   "source": [
    "def gradient(theta_serialize,X,y):\n",
    "    theta1,theta2 = deserialize(theta_serialize)\n",
    "    a1,z2,a2,z3,h=feed_forward(theta_serialize,X)\n",
    "    d3=h-y\n",
    "    d2=d3@theta2[:,1:]*sigmoid_gradient(z2)\n",
    "    D2=(d3.T@a2)/len(X)\n",
    "    D1=(d2.T@a1)/len(X)\n",
    "    return serialize(D1,D2)\n",
    "\n"
   ]
  },
  {
   "cell_type": "markdown",
   "id": "ef2c94bb-ccab-42a3-a4d0-4324d4d3ea2a",
   "metadata": {},
   "source": [
    "### 6-1 带正则化的梯度"
   ]
  },
  {
   "cell_type": "code",
   "execution_count": 139,
   "id": "32d80f3f-fed4-4d70-9bb6-a51d87e72ef3",
   "metadata": {},
   "outputs": [],
   "source": [
    "def reg_gradient(theta_serialize,X,y,lam):\n",
    "    D=gradient(theta_serialize,X,y)\n",
    "    D1,D2=deserialize(D)\n",
    "    D1[:,1:]=D1[:,1:]+(lam/len(X))*theta1[:,1:]\n",
    "    D2[:,1:]=D2[:,1:]+(lam/len(X))*theta2[:,1:]\n",
    "    return serialize(D1,D2)"
   ]
  },
  {
   "cell_type": "markdown",
   "id": "7708a0bd-0ac0-4f65-bf4d-6d99df4dfed1",
   "metadata": {},
   "source": [
    "### 优化"
   ]
  },
  {
   "cell_type": "code",
   "execution_count": 143,
   "id": "19026c80-41c9-4ab4-a69a-c8e7b6558010",
   "metadata": {},
   "outputs": [],
   "source": [
    "from scipy.optimize import minimize\n",
    "def nn_training(X,y,lamb):\n",
    "    init_theta=np.random.uniform(-0.5,0.5,10285)\n",
    "    res=minimize(fun=reg_cost,\n",
    "                 x0=init_theta,\n",
    "                 args=(X,y,lamb),\n",
    "                 method='TNC',\n",
    "                 jac=reg_gradient,\n",
    "                 options = {'maxfun':300})#迭代次数\n",
    "    return res\n",
    "    \n",
    "#res 对象的关键属性：\n",
    "\n",
    "#res.x：优化后的参数向量（即训练好的权重）。\n",
    "\n",
    "#res.fun：最终损失值。\n",
    "\n",
    "#res.success：是否优化成功（布尔值）。\n",
    "\n",
    "#res.message：优化状态的描述信息。"
   ]
  },
  {
   "cell_type": "code",
   "execution_count": 145,
   "id": "ffdfb0a5-5686-4436-bb12-a89655774ffb",
   "metadata": {},
   "outputs": [],
   "source": [
    "lamb=10\n",
    "res=nn_training(X,y,lamb)\n"
   ]
  },
  {
   "cell_type": "code",
   "execution_count": 146,
   "id": "be98ed26-88fc-47c3-97ef-33a110c43cc0",
   "metadata": {},
   "outputs": [
    {
     "data": {
      "text/plain": [
       "0.8556"
      ]
     },
     "execution_count": 146,
     "metadata": {},
     "output_type": "execute_result"
    }
   ],
   "source": [
    "raw_y=data['y'].reshape(5000,)\n",
    "_,_,_,_,h=feed_forward(res.x,X)\n",
    "y_pred=np.argmax(h,axis=1)+1#索引加一\n",
    "acc=np.mean(y_pred==raw_y)\n",
    "acc"
   ]
  },
  {
   "cell_type": "code",
   "execution_count": null,
   "id": "e1923f3e-760b-4dc0-814b-b2413d47ee5f",
   "metadata": {},
   "outputs": [],
   "source": []
  }
 ],
 "metadata": {
  "kernelspec": {
   "display_name": "Python 3 (ipykernel)",
   "language": "python",
   "name": "python3"
  },
  "language_info": {
   "codemirror_mode": {
    "name": "ipython",
    "version": 3
   },
   "file_extension": ".py",
   "mimetype": "text/x-python",
   "name": "python",
   "nbconvert_exporter": "python",
   "pygments_lexer": "ipython3",
   "version": "3.12.7"
  }
 },
 "nbformat": 4,
 "nbformat_minor": 5
}
