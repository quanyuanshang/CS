{
 "cells": [
  {
   "cell_type": "markdown",
   "id": "20522238-148f-4305-9534-b4a4a394f7e4",
   "metadata": {},
   "source": [
    "### Logistics regression"
   ]
  },
  {
   "cell_type": "code",
   "execution_count": null,
   "id": "8b3d6714-aeb9-4996-84ae-3ba1b57a4def",
   "metadata": {},
   "outputs": [],
   "source": [
    "import numpy as np\n",
    "import pandas as pd\n",
    "import matplotlib.pyplot as plt "
   ]
  },
  {
   "cell_type": "code",
   "execution_count": null,
   "id": "317712ec-f16e-44a0-816e-cd2ef38d5e8a",
   "metadata": {},
   "outputs": [],
   "source": [
    "path =\"ex2data1.txt\"\n",
    "data=pd.read_csv(path,names=[\"Exam 1\",\"Exam 2\",\"Accepted\"])\n",
    "data.head()"
   ]
  },
  {
   "cell_type": "code",
   "execution_count": null,
   "id": "1ca2b909-5cd9-4f59-9ed7-f5349c768d91",
   "metadata": {},
   "outputs": [],
   "source": [
    "fig,ax=plt.subplots()\n",
    "ax.scatter(data[data[\"Accepted\"]==0][\"Exam 1\"],data[data[\"Accepted\"]==0][\"Exam 2\"],c=\"r\",marker=\"x\",label=\"y=0\")\n",
    "ax.scatter(data[data[\"Accepted\"]==1][\"Exam 1\"],data[data[\"Accepted\"]==1][\"Exam 2\"],c=\"b\",marker=\"o\",label=\"y=1\")\n",
    "ax.legend()#display label\n",
    "ax.set(xlabel=\"exam1\",ylabel=\"exam2\")\n",
    "plt.show()\n"
   ]
  },
  {
   "cell_type": "code",
   "execution_count": null,
   "id": "13dd018a-9d30-4d74-ae60-94c5071b3df1",
   "metadata": {},
   "outputs": [],
   "source": [
    "#构造数据集\n",
    "def get_Xy(data):\n",
    "    data.insert(0,\"ones\",1)\n",
    "    X_=data.iloc[:,0:-1]\n",
    "    X=X_.values\n",
    "    \n",
    "    y_=data.iloc[:,-1]\n",
    "    y=y_.values.reshape(len(y_),1)\n",
    "    return X,y"
   ]
  },
  {
   "cell_type": "code",
   "execution_count": null,
   "id": "011c6074-7b3a-4b18-a967-6f220ef940a0",
   "metadata": {},
   "outputs": [],
   "source": [
    "X,y=get_Xy(data)"
   ]
  },
  {
   "cell_type": "code",
   "execution_count": null,
   "id": "8423b2fb-3e32-444a-b123-ace1efccf00f",
   "metadata": {},
   "outputs": [],
   "source": [
    "y=data"
   ]
  },
  {
   "cell_type": "code",
   "execution_count": null,
   "id": "5c43f0fb-abc4-4712-8dd2-8ea585277365",
   "metadata": {},
   "outputs": [],
   "source": [
    "y.shape"
   ]
  },
  {
   "cell_type": "code",
   "execution_count": null,
   "id": "820c6c4a-05db-4660-ac92-4d0ab8d480c6",
   "metadata": {},
   "outputs": [],
   "source": [
    "def sigmoid(z):\n",
    "    return 1/(1+np.exp(-z))"
   ]
  },
  {
   "cell_type": "code",
   "execution_count": null,
   "id": "9c8eacbd-4f2a-4b79-ba94-c0888a8740c8",
   "metadata": {},
   "outputs": [],
   "source": [
    "def costFunction(X,y,theta):\n",
    "    y_hat=sigmoid(X@theta)\n",
    "    first=y*np.log(y_hat)\n",
    "    second =(1-y)*np.log(1-y_hat)\n",
    "    return -(np.sum(first+second))/len(X)  "
   ]
  },
  {
   "cell_type": "code",
   "execution_count": null,
   "id": "22bed604-93c7-45fb-b9f1-c1f9c63d6020",
   "metadata": {},
   "outputs": [],
   "source": [
    "theta=np.zeros((3,1))"
   ]
  },
  {
   "cell_type": "code",
   "execution_count": null,
   "id": "02fa0f34-5ac0-4437-a629-e1eb60c110cf",
   "metadata": {},
   "outputs": [],
   "source": [
    "cost_init=costFunction(X,y,theta)\n",
    "print(cost_init)"
   ]
  },
  {
   "cell_type": "code",
   "execution_count": null,
   "id": "fd71e631-2782-40d8-a5cf-1b36c9026b67",
   "metadata": {},
   "outputs": [],
   "source": [
    "def gradient_descent(X,y,theta,alpha,iters):\n",
    "    costs=[]\n",
    "    for i in range (iters):\n",
    "        y_hat=sigmoid(X@theta)\n",
    "        theta=theta-(X.T@(y_hat-y))*alpha/len(X)\n",
    "        cost=costFunction(X,y,theta)\n",
    "        costs.append(cost)\n",
    "        if i %1000==0:\n",
    "            print(cost)\n",
    "    return theta,costs"
   ]
  },
  {
   "cell_type": "code",
   "execution_count": null,
   "id": "4ad9ec17-a874-46f4-bb45-5ff2640463e2",
   "metadata": {},
   "outputs": [],
   "source": [
    "alpha=0.004\n",
    "iters=200000"
   ]
  },
  {
   "cell_type": "code",
   "execution_count": null,
   "id": "ccad65f8-b213-477b-a728-1d873bbac4af",
   "metadata": {},
   "outputs": [],
   "source": [
    "theta_final,costs=gradient_descent(X,y,theta,alpha,iters)"
   ]
  },
  {
   "cell_type": "code",
   "execution_count": null,
   "id": "6358e9bc-68cf-40da-abc1-0fa662e33391",
   "metadata": {},
   "outputs": [],
   "source": [
    "coeff1=-theta_final[0,0]/theta_final[2,0]\n",
    "coeff2=-theta_final[1,0]/theta_final[2,0]"
   ]
  },
  {
   "cell_type": "code",
   "execution_count": null,
   "id": "cd0c9094-e195-4fee-b8a3-0295a9b1f24b",
   "metadata": {},
   "outputs": [],
   "source": [
    "x=np.linspace(20,100,100)\n",
    "f=coeff1+coeff2*x\n",
    "fig,ax=plt.subplots()\n",
    "ax.scatter(data[data[\"Accepted\"]==0][\"Exam 1\"],data[data[\"Accepted\"]==0][\"Exam 2\"],c=\"r\",marker=\"x\",label=\"y=0\")\n",
    "ax.scatter(data[data[\"Accepted\"]==1][\"Exam 1\"],data[data[\"Accepted\"]==1][\"Exam 2\"],c=\"b\",marker=\"o\",label=\"y=1\")\n",
    "ax.legend()#display label\n",
    "ax.set(xlabel=\"exam1\",ylabel=\"exam2\")\n",
    "ax.plot(x,f,c='g')\n",
    "plt.show()"
   ]
  },
  {
   "cell_type": "markdown",
   "id": "635416e7-27fa-4d31-9a6c-83e358fefa6b",
   "metadata": {},
   "source": [
    "### Regularized Logistic Regression"
   ]
  },
  {
   "cell_type": "code",
   "execution_count": null,
   "id": "fe1dd48a-d70c-412e-9be3-5aee04ef97cf",
   "metadata": {},
   "outputs": [],
   "source": [
    "data2=pd.read_csv(\"ex2data2.txt\",names=[\"Test1\",\"Test2\",\"Accepted\"])"
   ]
  },
  {
   "cell_type": "code",
   "execution_count": null,
   "id": "2ccca5eb-12aa-469e-bcd4-00f58a6de884",
   "metadata": {},
   "outputs": [],
   "source": [
    "fig,ax=plt.subplots()\n",
    "ax.scatter(data2[data2[\"Accepted\"]==0][\"Test1\"],data2[data2[\"Accepted\"]==0][\"Test2\"],c=\"r\",marker=\"x\",label=\"y=0\")\n",
    "ax.scatter(data2[data2[\"Accepted\"]==1][\"Test1\"],data2[data2[\"Accepted\"]==1][\"Test2\"],c=\"b\",marker=\"o\",label=\"y=1\")\n",
    "ax.legend()#display label\n",
    "ax.set(xlabel=\"test1\",ylabel=\"test2\")\n",
    "plt.show()"
   ]
  },
  {
   "cell_type": "markdown",
   "id": "351de730-4047-4b8b-8ea7-623a6efc9813",
   "metadata": {},
   "source": [
    "### 特征映射,对于不可线性二分的"
   ]
  },
  {
   "cell_type": "code",
   "execution_count": null,
   "id": "d9aacc5d-c429-453d-b990-1c7630f5d560",
   "metadata": {},
   "outputs": [],
   "source": [
    "def feature_mapping(x_1,x_2,power):\n",
    "    data={}\n",
    "    for i in np.arange(power+1):\n",
    "        for j in np.arange(i+1):\n",
    "            data[\"F{}{}\".format(i-j,j)]=np.power(x1,i-j)*np.power(x2,j)\n",
    "    return pd.DataFrame(data)"
   ]
  },
  {
   "cell_type": "code",
   "execution_count": null,
   "id": "ed7f0f4b-e5a3-4d1b-bfc9-e5de0ea43788",
   "metadata": {},
   "outputs": [],
   "source": [
    "x1=data2[\"Test1\"]\n",
    "x2=data2[\"Test2\"]"
   ]
  },
  {
   "cell_type": "code",
   "execution_count": null,
   "id": "dbbfea94-4028-48e0-9a97-ae5aabdee863",
   "metadata": {},
   "outputs": [],
   "source": [
    "data2_=feature_mapping(x1,x2,6)"
   ]
  },
  {
   "cell_type": "code",
   "execution_count": null,
   "id": "2c0e37fd-5184-4aa8-83f1-8fd4f97c9567",
   "metadata": {},
   "outputs": [],
   "source": [
    "data2.head()"
   ]
  },
  {
   "cell_type": "code",
   "execution_count": null,
   "id": "af3812a1-f3d0-4b01-8368-02d4fc6706bb",
   "metadata": {},
   "outputs": [],
   "source": [
    "X2,y2=get_Xy(data2_)"
   ]
  },
  {
   "cell_type": "code",
   "execution_count": null,
   "id": "8491337a-af10-4e1d-ad8f-562c9ef36148",
   "metadata": {},
   "outputs": [],
   "source": [
    "X2.shape"
   ]
  },
  {
   "cell_type": "code",
   "execution_count": null,
   "id": "52dbf99d-1072-481f-9b54-a860c3759bb7",
   "metadata": {},
   "outputs": [],
   "source": [
    "y=data2.iloc[:,-1].values"
   ]
  },
  {
   "cell_type": "code",
   "execution_count": null,
   "id": "17d831e8-81c0-48e6-92f3-b6a02058b1a1",
   "metadata": {},
   "outputs": [],
   "source": [
    "y=y.reshape(len(y),1)"
   ]
  },
  {
   "cell_type": "code",
   "execution_count": null,
   "id": "66b7eecb-a921-4388-b3f6-5c55af49957c",
   "metadata": {},
   "outputs": [],
   "source": [
    "y.shape"
   ]
  },
  {
   "cell_type": "code",
   "execution_count": null,
   "id": "e25b0f37-4bad-42d2-9957-8fdebb890bc2",
   "metadata": {},
   "outputs": [],
   "source": [
    "def costFunction(X,y,theta,lam):\n",
    "    y_hat=sigmoid(X@theta)\n",
    "    first=y*np.log(y_hat)\n",
    "    second =(1-y)*np.log(1-y_hat)\n",
    "    reg=np.sum(np.power(theta[1:],2))*(lam/(2*len(X)))\n",
    "    return -(np.sum(first+second))/len(X)+reg "
   ]
  },
  {
   "cell_type": "code",
   "execution_count": null,
   "id": "6c641822-1cd7-4f16-b45c-bd02245f0771",
   "metadata": {},
   "outputs": [],
   "source": [
    "theta=np.zeros((28,1))"
   ]
  },
  {
   "cell_type": "code",
   "execution_count": null,
   "id": "4562a924-6d28-4192-946a-1a435aafc30d",
   "metadata": {},
   "outputs": [],
   "source": [
    "lam=1"
   ]
  },
  {
   "cell_type": "code",
   "execution_count": null,
   "id": "5a6199f3-0798-4868-8d50-7401c9935989",
   "metadata": {},
   "outputs": [],
   "source": [
    "cost_init=costFunction(X,y,theta,lam)\n",
    "print(cost_init)"
   ]
  },
  {
   "cell_type": "code",
   "execution_count": null,
   "id": "0ba7b60f-5bd2-48e5-8689-1d4beabbc829",
   "metadata": {},
   "outputs": [],
   "source": []
  },
  {
   "cell_type": "code",
   "execution_count": null,
   "id": "40628d7d-6265-4e88-ad8c-d79d599b61c0",
   "metadata": {},
   "outputs": [],
   "source": []
  }
 ],
 "metadata": {
  "kernelspec": {
   "display_name": "Python 3 (ipykernel)",
   "language": "python",
   "name": "python3"
  },
  "language_info": {
   "codemirror_mode": {
    "name": "ipython",
    "version": 3
   },
   "file_extension": ".py",
   "mimetype": "text/x-python",
   "name": "python",
   "nbconvert_exporter": "python",
   "pygments_lexer": "ipython3",
   "version": "3.12.7"
  }
 },
 "nbformat": 4,
 "nbformat_minor": 5
}
