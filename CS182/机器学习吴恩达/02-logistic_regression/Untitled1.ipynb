{
 "cells": [
  {
   "cell_type": "code",
   "execution_count": 539,
   "id": "e013eb9c-e5e8-4cfb-a8c0-c5e6b6c88d64",
   "metadata": {},
   "outputs": [],
   "source": [
    "import numpy as np\n",
    "import pandas as pd\n",
    "import matplotlib.pyplot as plt "
   ]
  },
  {
   "cell_type": "code",
   "execution_count": 540,
   "id": "71ec25f4-4b30-4daa-804e-96554762ebf3",
   "metadata": {},
   "outputs": [
    {
     "data": {
      "text/html": [
       "<div>\n",
       "<style scoped>\n",
       "    .dataframe tbody tr th:only-of-type {\n",
       "        vertical-align: middle;\n",
       "    }\n",
       "\n",
       "    .dataframe tbody tr th {\n",
       "        vertical-align: top;\n",
       "    }\n",
       "\n",
       "    .dataframe thead th {\n",
       "        text-align: right;\n",
       "    }\n",
       "</style>\n",
       "<table border=\"1\" class=\"dataframe\">\n",
       "  <thead>\n",
       "    <tr style=\"text-align: right;\">\n",
       "      <th></th>\n",
       "      <th>Test1</th>\n",
       "      <th>Test2</th>\n",
       "      <th>Accepted</th>\n",
       "    </tr>\n",
       "  </thead>\n",
       "  <tbody>\n",
       "    <tr>\n",
       "      <th>0</th>\n",
       "      <td>0.051267</td>\n",
       "      <td>0.69956</td>\n",
       "      <td>1</td>\n",
       "    </tr>\n",
       "    <tr>\n",
       "      <th>1</th>\n",
       "      <td>-0.092742</td>\n",
       "      <td>0.68494</td>\n",
       "      <td>1</td>\n",
       "    </tr>\n",
       "    <tr>\n",
       "      <th>2</th>\n",
       "      <td>-0.213710</td>\n",
       "      <td>0.69225</td>\n",
       "      <td>1</td>\n",
       "    </tr>\n",
       "    <tr>\n",
       "      <th>3</th>\n",
       "      <td>-0.375000</td>\n",
       "      <td>0.50219</td>\n",
       "      <td>1</td>\n",
       "    </tr>\n",
       "    <tr>\n",
       "      <th>4</th>\n",
       "      <td>-0.513250</td>\n",
       "      <td>0.46564</td>\n",
       "      <td>1</td>\n",
       "    </tr>\n",
       "  </tbody>\n",
       "</table>\n",
       "</div>"
      ],
      "text/plain": [
       "      Test1    Test2  Accepted\n",
       "0  0.051267  0.69956         1\n",
       "1 -0.092742  0.68494         1\n",
       "2 -0.213710  0.69225         1\n",
       "3 -0.375000  0.50219         1\n",
       "4 -0.513250  0.46564         1"
      ]
     },
     "execution_count": 540,
     "metadata": {},
     "output_type": "execute_result"
    }
   ],
   "source": [
    "data2=pd.read_csv(\"ex2data2.txt\",names=[\"Test1\",\"Test2\",\"Accepted\"])\n",
    "data2.head()"
   ]
  },
  {
   "cell_type": "code",
   "execution_count": 541,
   "id": "43ed6030-dccb-453e-a955-9dce18d9d685",
   "metadata": {},
   "outputs": [
    {
     "data": {
      "image/png": "[encoded data removed]",
      "text/plain": [
       "<Figure size 640x480 with 1 Axes>"
      ]
     },
     "metadata": {},
     "output_type": "display_data"
    }
   ],
   "source": [
    "fig,ax=plt.subplots()\n",
    "ax.scatter(data2[data2[\"Accepted\"]==0][\"Test1\"],data2[data2[\"Accepted\"]==0][\"Test2\"],c=\"r\",marker=\"x\",label=\"y=0\")\n",
    "ax.scatter(data2[data2[\"Accepted\"]==1][\"Test1\"],data2[data2[\"Accepted\"]==1][\"Test2\"],c=\"b\",marker=\"o\",label=\"y=1\")\n",
    "ax.legend()#display label\n",
    "ax.set(xlabel=\"test1\",ylabel=\"test2\")\n",
    "plt.show()"
   ]
  },
  {
   "cell_type": "code",
   "execution_count": 542,
   "id": "a545b1e0-d0c5-43c0-856e-e33c22ad793a",
   "metadata": {},
   "outputs": [],
   "source": [
    "def sigmoid(z):\n",
    "    return 1/(1+np.exp(-z))"
   ]
  },
  {
   "cell_type": "code",
   "execution_count": 543,
   "id": "26f0df0c-00fc-4705-af32-34ee0d930e79",
   "metadata": {},
   "outputs": [],
   "source": [
    "def get_Xy(data):\n",
    "    data.insert(0,\"ones\",1)\n",
    "    X_=data.iloc[:,0:-1]\n",
    "    X=X_.values\n",
    "    \n",
    "    y_=data.iloc[:,-1]\n",
    "    y=y_.values.reshape(len(y_),1)\n",
    "    return X,y"
   ]
  },
  {
   "cell_type": "code",
   "execution_count": null,
   "id": "9a304118-8753-4256-8d64-1fd6292c900c",
   "metadata": {},
   "outputs": [],
   "source": []
  },
  {
   "cell_type": "markdown",
   "id": "38136e9e-df1f-4b4d-9df2-2f2886a06267",
   "metadata": {},
   "source": [
    "### 特征映射,对于不可线性二分的"
   ]
  },
  {
   "cell_type": "code",
   "execution_count": 545,
   "id": "17e7c7db-05b9-4570-ba0e-522f8c63fec6",
   "metadata": {},
   "outputs": [],
   "source": [
    "def feature_mapping(x1,x2,power):\n",
    "    data={}\n",
    "    \n",
    "    for i in np.arange(power+1):\n",
    "        for j in np.arange(i+1):\n",
    "            data[\"F{}{}\".format(i-j,j)]=np.power(x1,i-j)*np.power(x2,j)\n",
    "    return pd.DataFrame(data)\n",
    "\n"
   ]
  },
  {
   "cell_type": "code",
   "execution_count": 546,
   "id": "495e599a-cbbe-47a1-b528-d92e25201140",
   "metadata": {},
   "outputs": [],
   "source": [
    "x1=data2[\"Test1\"]\n",
    "x2=data2[\"Test2\"]"
   ]
  },
  {
   "cell_type": "code",
   "execution_count": 547,
   "id": "b04b7625-ffe9-4693-98c4-58a577282918",
   "metadata": {},
   "outputs": [],
   "source": [
    "data2_=feature_mapping(x1,x2,6)"
   ]
  },
  {
   "cell_type": "code",
   "execution_count": 548,
   "id": "debc4fce-c18f-4f04-9fb1-8a0763364ece",
   "metadata": {},
   "outputs": [
    {
     "data": {
      "text/html": [
       "<div>\n",
       "<style scoped>\n",
       "    .dataframe tbody tr th:only-of-type {\n",
       "        vertical-align: middle;\n",
       "    }\n",
       "\n",
       "    .dataframe tbody tr th {\n",
       "        vertical-align: top;\n",
       "    }\n",
       "\n",
       "    .dataframe thead th {\n",
       "        text-align: right;\n",
       "    }\n",
       "</style>\n",
       "<table border=\"1\" class=\"dataframe\">\n",
       "  <thead>\n",
       "    <tr style=\"text-align: right;\">\n",
       "      <th></th>\n",
       "      <th>F00</th>\n",
       "      <th>F10</th>\n",
       "      <th>F01</th>\n",
       "      <th>F20</th>\n",
       "      <th>F11</th>\n",
       "      <th>F02</th>\n",
       "      <th>F30</th>\n",
       "      <th>F21</th>\n",
       "      <th>F12</th>\n",
       "      <th>F03</th>\n",
       "      <th>...</th>\n",
       "      <th>F23</th>\n",
       "      <th>F14</th>\n",
       "      <th>F05</th>\n",
       "      <th>F60</th>\n",
       "      <th>F51</th>\n",
       "      <th>F42</th>\n",
       "      <th>F33</th>\n",
       "      <th>F24</th>\n",
       "      <th>F15</th>\n",
       "      <th>F06</th>\n",
       "    </tr>\n",
       "  </thead>\n",
       "  <tbody>\n",
       "    <tr>\n",
       "      <th>0</th>\n",
       "      <td>1.0</td>\n",
       "      <td>0.051267</td>\n",
       "      <td>0.69956</td>\n",
       "      <td>0.002628</td>\n",
       "      <td>0.035864</td>\n",
       "      <td>0.489384</td>\n",
       "      <td>0.000135</td>\n",
       "      <td>0.001839</td>\n",
       "      <td>0.025089</td>\n",
       "      <td>0.342354</td>\n",
       "      <td>...</td>\n",
       "      <td>0.000900</td>\n",
       "      <td>0.012278</td>\n",
       "      <td>0.167542</td>\n",
       "      <td>1.815630e-08</td>\n",
       "      <td>2.477505e-07</td>\n",
       "      <td>0.000003</td>\n",
       "      <td>0.000046</td>\n",
       "      <td>0.000629</td>\n",
       "      <td>0.008589</td>\n",
       "      <td>0.117206</td>\n",
       "    </tr>\n",
       "    <tr>\n",
       "      <th>1</th>\n",
       "      <td>1.0</td>\n",
       "      <td>-0.092742</td>\n",
       "      <td>0.68494</td>\n",
       "      <td>0.008601</td>\n",
       "      <td>-0.063523</td>\n",
       "      <td>0.469143</td>\n",
       "      <td>-0.000798</td>\n",
       "      <td>0.005891</td>\n",
       "      <td>-0.043509</td>\n",
       "      <td>0.321335</td>\n",
       "      <td>...</td>\n",
       "      <td>0.002764</td>\n",
       "      <td>-0.020412</td>\n",
       "      <td>0.150752</td>\n",
       "      <td>6.362953e-07</td>\n",
       "      <td>-4.699318e-06</td>\n",
       "      <td>0.000035</td>\n",
       "      <td>-0.000256</td>\n",
       "      <td>0.001893</td>\n",
       "      <td>-0.013981</td>\n",
       "      <td>0.103256</td>\n",
       "    </tr>\n",
       "    <tr>\n",
       "      <th>2</th>\n",
       "      <td>1.0</td>\n",
       "      <td>-0.213710</td>\n",
       "      <td>0.69225</td>\n",
       "      <td>0.045672</td>\n",
       "      <td>-0.147941</td>\n",
       "      <td>0.479210</td>\n",
       "      <td>-0.009761</td>\n",
       "      <td>0.031616</td>\n",
       "      <td>-0.102412</td>\n",
       "      <td>0.331733</td>\n",
       "      <td>...</td>\n",
       "      <td>0.015151</td>\n",
       "      <td>-0.049077</td>\n",
       "      <td>0.158970</td>\n",
       "      <td>9.526844e-05</td>\n",
       "      <td>-3.085938e-04</td>\n",
       "      <td>0.001000</td>\n",
       "      <td>-0.003238</td>\n",
       "      <td>0.010488</td>\n",
       "      <td>-0.033973</td>\n",
       "      <td>0.110047</td>\n",
       "    </tr>\n",
       "    <tr>\n",
       "      <th>3</th>\n",
       "      <td>1.0</td>\n",
       "      <td>-0.375000</td>\n",
       "      <td>0.50219</td>\n",
       "      <td>0.140625</td>\n",
       "      <td>-0.188321</td>\n",
       "      <td>0.252195</td>\n",
       "      <td>-0.052734</td>\n",
       "      <td>0.070620</td>\n",
       "      <td>-0.094573</td>\n",
       "      <td>0.126650</td>\n",
       "      <td>...</td>\n",
       "      <td>0.017810</td>\n",
       "      <td>-0.023851</td>\n",
       "      <td>0.031940</td>\n",
       "      <td>2.780914e-03</td>\n",
       "      <td>-3.724126e-03</td>\n",
       "      <td>0.004987</td>\n",
       "      <td>-0.006679</td>\n",
       "      <td>0.008944</td>\n",
       "      <td>-0.011978</td>\n",
       "      <td>0.016040</td>\n",
       "    </tr>\n",
       "    <tr>\n",
       "      <th>4</th>\n",
       "      <td>1.0</td>\n",
       "      <td>-0.513250</td>\n",
       "      <td>0.46564</td>\n",
       "      <td>0.263426</td>\n",
       "      <td>-0.238990</td>\n",
       "      <td>0.216821</td>\n",
       "      <td>-0.135203</td>\n",
       "      <td>0.122661</td>\n",
       "      <td>-0.111283</td>\n",
       "      <td>0.100960</td>\n",
       "      <td>...</td>\n",
       "      <td>0.026596</td>\n",
       "      <td>-0.024128</td>\n",
       "      <td>0.021890</td>\n",
       "      <td>1.827990e-02</td>\n",
       "      <td>-1.658422e-02</td>\n",
       "      <td>0.015046</td>\n",
       "      <td>-0.013650</td>\n",
       "      <td>0.012384</td>\n",
       "      <td>-0.011235</td>\n",
       "      <td>0.010193</td>\n",
       "    </tr>\n",
       "  </tbody>\n",
       "</table>\n",
       "<p>5 rows × 28 columns</p>\n",
       "</div>"
      ],
      "text/plain": [
       "   F00       F10      F01       F20       F11       F02       F30       F21  \\\n",
       "0  1.0  0.051267  0.69956  0.002628  0.035864  0.489384  0.000135  0.001839   \n",
       "1  1.0 -0.092742  0.68494  0.008601 -0.063523  0.469143 -0.000798  0.005891   \n",
       "2  1.0 -0.213710  0.69225  0.045672 -0.147941  0.479210 -0.009761  0.031616   \n",
       "3  1.0 -0.375000  0.50219  0.140625 -0.188321  0.252195 -0.052734  0.070620   \n",
       "4  1.0 -0.513250  0.46564  0.263426 -0.238990  0.216821 -0.135203  0.122661   \n",
       "\n",
       "        F12       F03  ...       F23       F14       F05           F60  \\\n",
       "0  0.025089  0.342354  ...  0.000900  0.012278  0.167542  1.815630e-08   \n",
       "1 -0.043509  0.321335  ...  0.002764 -0.020412  0.150752  6.362953e-07   \n",
       "2 -0.102412  0.331733  ...  0.015151 -0.049077  0.158970  9.526844e-05   \n",
       "3 -0.094573  0.126650  ...  0.017810 -0.023851  0.031940  2.780914e-03   \n",
       "4 -0.111283  0.100960  ...  0.026596 -0.024128  0.021890  1.827990e-02   \n",
       "\n",
       "            F51       F42       F33       F24       F15       F06  \n",
       "0  2.477505e-07  0.000003  0.000046  0.000629  0.008589  0.117206  \n",
       "1 -4.699318e-06  0.000035 -0.000256  0.001893 -0.013981  0.103256  \n",
       "2 -3.085938e-04  0.001000 -0.003238  0.010488 -0.033973  0.110047  \n",
       "3 -3.724126e-03  0.004987 -0.006679  0.008944 -0.011978  0.016040  \n",
       "4 -1.658422e-02  0.015046 -0.013650  0.012384 -0.011235  0.010193  \n",
       "\n",
       "[5 rows x 28 columns]"
      ]
     },
     "execution_count": 548,
     "metadata": {},
     "output_type": "execute_result"
    }
   ],
   "source": [
    "data2_.head()"
   ]
  },
  {
   "cell_type": "code",
   "execution_count": 549,
   "id": "1ad1e831-ad46-4d48-ae32-028db3906c62",
   "metadata": {},
   "outputs": [],
   "source": [
    "X = data2_.values"
   ]
  },
  {
   "cell_type": "code",
   "execution_count": 550,
   "id": "a97e8363-3398-422c-8c04-e7b02132a460",
   "metadata": {},
   "outputs": [
    {
     "data": {
      "text/plain": [
       "(118, 28)"
      ]
     },
     "execution_count": 550,
     "metadata": {},
     "output_type": "execute_result"
    }
   ],
   "source": [
    "X.shape"
   ]
  },
  {
   "cell_type": "code",
   "execution_count": 551,
   "id": "d3a8ca15-5820-40ea-9aa4-4709810d3966",
   "metadata": {},
   "outputs": [],
   "source": [
    "y=data2.iloc[:,-1].values"
   ]
  },
  {
   "cell_type": "code",
   "execution_count": 552,
   "id": "29b71e8a-2419-43fb-9a80-c6fca2d17ae9",
   "metadata": {},
   "outputs": [],
   "source": [
    "y=y.reshape(len(y),1)"
   ]
  },
  {
   "cell_type": "code",
   "execution_count": 553,
   "id": "4318603c-5b8f-4778-8704-1d88fbfeae0d",
   "metadata": {},
   "outputs": [
    {
     "data": {
      "text/plain": [
       "(118, 1)"
      ]
     },
     "execution_count": 553,
     "metadata": {},
     "output_type": "execute_result"
    }
   ],
   "source": [
    "y.shape"
   ]
  },
  {
   "cell_type": "code",
   "execution_count": 554,
   "id": "f036157e-d68b-49e9-8986-c1b2da1ef46e",
   "metadata": {},
   "outputs": [],
   "source": [
    "def costFunction(X,y,theta,lam):\n",
    "    y_hat=sigmoid(X@theta)\n",
    "    first=y*np.log(y_hat)\n",
    "    second =(1-y)*np.log(1-y_hat)\n",
    "    reg=np.sum(np.power(theta[1:],2))*(lam/(2*len(X)))\n",
    "    return -(np.sum(first+second))/len(X)+reg "
   ]
  },
  {
   "cell_type": "code",
   "execution_count": 555,
   "id": "8272f077-b7fb-4a07-b295-337501fca2c5",
   "metadata": {},
   "outputs": [
    {
     "data": {
      "text/plain": [
       "(28, 1)"
      ]
     },
     "execution_count": 555,
     "metadata": {},
     "output_type": "execute_result"
    }
   ],
   "source": [
    "theta=np.zeros((28,1))\n",
    "theta.shape\n"
   ]
  },
  {
   "cell_type": "code",
   "execution_count": 556,
   "id": "6241e0ff-1592-4f15-b111-c1cbd9ad5798",
   "metadata": {},
   "outputs": [
    {
     "name": "stdout",
     "output_type": "stream",
     "text": [
      "0.6931471805599454\n"
     ]
    }
   ],
   "source": [
    "lam=1\n",
    "cost_init=costFunction(X,y,theta,lam)\n",
    "print(cost_init)"
   ]
  },
  {
   "cell_type": "code",
   "execution_count": 557,
   "id": "99e4e7db-11a4-4544-b3e7-22cda43e11cd",
   "metadata": {},
   "outputs": [],
   "source": [
    "def gradientDescent(X,y,theta,alpha,iters,lamda):\n",
    "    \n",
    "    costs = []\n",
    "    \n",
    "    for i in range(iters):\n",
    "        \n",
    "        reg = theta[1:] * (lamda / len(X))\n",
    "        reg = np.insert(reg,0,values=0,axis=0)\n",
    "        \n",
    "        theta = theta - (X.T@(sigmoid(X@theta) - y)) * alpha / len(X) -reg*alpha\n",
    "        cost = costFunction(X,y,theta,lamda)\n",
    "        costs.append(cost)\n",
    "\n",
    "        if i % 10000 == 0:\n",
    "            print(cost)\n",
    "\n",
    "    return theta,costs"
   ]
  },
  {
   "cell_type": "code",
   "execution_count": 568,
   "id": "ee7df431-7b7e-46e2-83a5-e7b0e92e1ac7",
   "metadata": {},
   "outputs": [],
   "source": [
    "alpha = 0.001\n",
    "iters = 200000\n",
    "# lamda = 0.001\n",
    "lamda = 0.1"
   ]
  },
  {
   "cell_type": "code",
   "execution_count": 570,
   "id": "ec4cf6f4-63c7-4df6-b7f0-ab318bb676ea",
   "metadata": {},
   "outputs": [
    {
     "name": "stdout",
     "output_type": "stream",
     "text": [
      "0.6931343808043247\n",
      "0.6242054715271711\n",
      "0.5852447561637638\n",
      "0.5567400371087793\n",
      "0.5345126426727593\n",
      "0.5166433793068518\n",
      "0.5019873546940052\n",
      "0.48977924556496727\n",
      "0.4794797932411262\n",
      "0.47069673545813895\n",
      "0.46313777969451486\n",
      "0.45658066720189766\n",
      "0.45085337408129744\n",
      "0.44582065494051715\n",
      "0.44137468808577657\n",
      "0.43742844043667306\n",
      "0.433910875083166\n",
      "0.4307634316649655\n",
      "0.42793740172812317\n",
      "0.42539194379692075\n",
      "[[ 1.77801688]\n",
      " [ 1.09327317]\n",
      " [ 1.88734721]\n",
      " [-2.92982917]\n",
      " [-1.55518466]\n",
      " [-2.01099084]\n",
      " [ 0.28906033]\n",
      " [-0.6225005 ]\n",
      " [-0.58870915]\n",
      " [-0.22887858]\n",
      " [-2.22511532]\n",
      " [-0.12705587]\n",
      " [-0.95533794]\n",
      " [-0.49070996]\n",
      " [-1.81848636]\n",
      " [-0.33764396]\n",
      " [-0.35756843]\n",
      " [-0.07316378]\n",
      " [-0.45136146]\n",
      " [-0.50381867]\n",
      " [-0.7129427 ]\n",
      " [-1.63082471]\n",
      " [ 0.01612567]\n",
      " [-0.46006512]\n",
      " [ 0.00605082]\n",
      " [-0.51912734]\n",
      " [-0.27025891]\n",
      " [-1.46464852]]\n"
     ]
    }
   ],
   "source": [
    "theta_final,costs = gradientDescent(X,y,theta,alpha,iters,lamda)\n",
    "print(theta_final)"
   ]
  },
  {
   "cell_type": "code",
   "execution_count": 571,
   "id": "7c12fb1b-3c13-4318-b0f8-afa20203307a",
   "metadata": {},
   "outputs": [],
   "source": [
    "def predict(X,theta):\n",
    "    prob=sigmoid(X@theta)\n",
    "    return [1 if x>=0.5 else 0 for x in prob]"
   ]
  },
  {
   "cell_type": "code",
   "execution_count": 572,
   "id": "5545b00f-3e96-48b3-9095-77f8f6affdd8",
   "metadata": {},
   "outputs": [
    {
     "data": {
      "text/plain": [
       "(28, 1)"
      ]
     },
     "execution_count": 572,
     "metadata": {},
     "output_type": "execute_result"
    }
   ],
   "source": [
    "theta_final.shape"
   ]
  },
  {
   "cell_type": "code",
   "execution_count": 573,
   "id": "53194668-2e3f-41e2-92e5-5021f2a91ced",
   "metadata": {},
   "outputs": [
    {
     "name": "stdout",
     "output_type": "stream",
     "text": [
      "0.8135593220338984\n"
     ]
    }
   ],
   "source": [
    "y_=np.array(predict(X,theta_final))\n",
    "y_pre=y_.reshape(len(y_),1)\n",
    "acc=np.mean(y_pre==y)\n",
    "print(acc)"
   ]
  },
  {
   "cell_type": "code",
   "execution_count": 574,
   "id": "50a59530-2f52-43da-b6b9-f64ce836934e",
   "metadata": {},
   "outputs": [
    {
     "name": "stdout",
     "output_type": "stream",
     "text": [
      "(40000,)\n",
      "(40000, 28)\n"
     ]
    },
    {
     "data": {
      "image/png": "[encoded data removed]",
      "text/plain": [
       "<Figure size 640x480 with 1 Axes>"
      ]
     },
     "metadata": {},
     "output_type": "display_data"
    }
   ],
   "source": [
    "x = np.linspace(-1.2,1.2,200)\n",
    "xx,yy = np.meshgrid(x,x)\n",
    "z = feature_mapping(xx.ravel(),yy.ravel(),6).values\n",
    "print(xx.ravel().shape)\n",
    "print(z.shape)\n",
    "zz = z @ theta_final\n",
    "zz = zz.reshape(xx.shape)\n",
    "\n",
    "fig,ax=plt.subplots()\n",
    "ax.scatter(data2[data2[\"Accepted\"]==0][\"Test1\"],data2[data2[\"Accepted\"]==0][\"Test2\"],c=\"r\",marker=\"x\",label=\"y=0\")\n",
    "ax.scatter(data2[data2[\"Accepted\"]==1][\"Test1\"],data2[data2[\"Accepted\"]==1][\"Test2\"],c=\"b\",marker=\"o\",label=\"y=1\")\n",
    "ax.legend()#display label\n",
    "ax.set(xlabel=\"test1\",ylabel=\"test2\")\n",
    "\n",
    "\n",
    "plt.contour(xx,yy,zz,0)\n",
    "plt.show()"
   ]
  },
  {
   "cell_type": "code",
   "execution_count": null,
   "id": "021e42fc-298d-4273-90e5-f16d22b45382",
   "metadata": {},
   "outputs": [],
   "source": []
  }
 ],
 "metadata": {
  "kernelspec": {
   "display_name": "Python 3 (ipykernel)",
   "language": "python",
   "name": "python3"
  },
  "language_info": {
   "codemirror_mode": {
    "name": "ipython",
    "version": 3
   },
   "file_extension": ".py",
   "mimetype": "text/x-python",
   "name": "python",
   "nbconvert_exporter": "python",
   "pygments_lexer": "ipython3",
   "version": "3.12.7"
  }
 },
 "nbformat": 4,
 "nbformat_minor": 5
}
