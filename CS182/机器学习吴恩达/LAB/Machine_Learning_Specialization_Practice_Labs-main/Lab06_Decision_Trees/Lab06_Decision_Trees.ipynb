{
 "cells": [
  {
   "cell_type": "markdown",
   "id": "f22501e0c586682f",
   "metadata": {},
   "source": [
    "# Lab06 Decision Trees\n",
    "\n",
    "## 1 - Packages"
   ]
  },
  {
   "cell_type": "code",
   "execution_count": 91,
   "id": "34fe0620a31d77f5",
   "metadata": {
    "deletable": false,
    "editable": false
   },
   "outputs": [],
   "source": [
    "import numpy as np\n",
    "%matplotlib inline"
   ]
  },
  {
   "cell_type": "markdown",
   "id": "2c3cb702be8371f7",
   "metadata": {},
   "source": [
    "## 2 - Problem Statement\n",
    "\n",
    "Suppose you are starting a company that grows and sells wild mushrooms.\n",
    "\n",
    "- Since not all mushrooms are edible, you'd like to be able to tell whether a given mushroom is edible or poisonous based on it's physical attributes.\n",
    "- You have some existing data that you can use for this task.\n",
    "\n",
    "Can you use the data to help you identify which mushrooms can be sold safely?\n",
    "\n",
    "## 3 - Dataset\n",
    "\n",
    "You will start by loading the dataset for this task. The dataset you have collected is as follows:\n",
    "\n",
    "|                      Mushroom                      | Cap Color | Stalk Shape | Solitary | Edible |\n",
    "|:--------------------------------------------------:|:---------:|:-----------:|:--------:|:------:|\n",
    "| <img src=\"images/0.png\" alt=\"drawing\" width=\"50\"/> |   Brown   |   Tapering  |    Yes   |    1   |\n",
    "| <img src=\"images/1.png\" alt=\"drawing\" width=\"50\"/> |   Brown   |  Enlarging  |    Yes   |    1   |\n",
    "| <img src=\"images/2.png\" alt=\"drawing\" width=\"50\"/> |   Brown   |  Enlarging  |    No    |    0   |\n",
    "| <img src=\"images/3.png\" alt=\"drawing\" width=\"50\"/> |   Brown   |  Enlarging  |    No    |    0   |\n",
    "| <img src=\"images/4.png\" alt=\"drawing\" width=\"50\"/> |   Brown   |   Tapering  |    Yes   |    1   |\n",
    "| <img src=\"images/5.png\" alt=\"drawing\" width=\"50\"/> |    Red    |   Tapering  |    Yes   |    0   |\n",
    "| <img src=\"images/6.png\" alt=\"drawing\" width=\"50\"/> |    Red    |  Enlarging  |    No    |    0   |\n",
    "| <img src=\"images/7.png\" alt=\"drawing\" width=\"50\"/> |   Brown   |  Enlarging  |    Yes   |    1   |\n",
    "| <img src=\"images/8.png\" alt=\"drawing\" width=\"50\"/> |    Red    |   Tapering  |    No    |    1   |\n",
    "| <img src=\"images/9.png\" alt=\"drawing\" width=\"50\"/> |   Brown   |  Enlarging  |    No    |    0   |\n",
    "\n",
    "-  You have 10 examples of mushrooms. For each example, you have:\n",
    "  - Three features\n",
    "    - Cap Color ( `Brown` or `Red` )\n",
    "    - Stalk Shape ( `Tapering` or `Enlarging` )\n",
    "    - Solitary ( `Yes` or `No` )\n",
    "  - Label\n",
    "    - Edible ( `1` indicating yes or `0` indicating poisonous)\n",
    "\n",
    "## 4 - One-hot Encoded Dataset\n",
    "\n",
    "For ease of implementation, we have one-hot encoded the features (turned them into 0 or 1 valued features).\n",
    "\n",
    "|                      Mushroom                      | Brown Cap | Tapering Stalk Shape | Solitary | Edible |\n",
    "|:--------------------------------------------------:|:---------:|:--------------------:|:--------:|:------:|\n",
    "| <img src=\"images/0.png\" alt=\"drawing\" width=\"50\"/> |     1     |           1          |     1    |    1   |\n",
    "| <img src=\"images/1.png\" alt=\"drawing\" width=\"50\"/> |     1     |           0          |     1    |    1   |\n",
    "| <img src=\"images/2.png\" alt=\"drawing\" width=\"50\"/> |     1     |           0          |     0    |    0   |\n",
    "| <img src=\"images/3.png\" alt=\"drawing\" width=\"50\"/> |     1     |           0          |     0    |    0   |\n",
    "| <img src=\"images/4.png\" alt=\"drawing\" width=\"50\"/> |     1     |           1          |     1    |    1   |\n",
    "| <img src=\"images/5.png\" alt=\"drawing\" width=\"50\"/> |     0     |           1          |     1    |    0   |\n",
    "| <img src=\"images/6.png\" alt=\"drawing\" width=\"50\"/> |     0     |           0          |     0    |    0   |\n",
    "| <img src=\"images/7.png\" alt=\"drawing\" width=\"50\"/> |     1     |           0          |     1    |    1   |\n",
    "| <img src=\"images/8.png\" alt=\"drawing\" width=\"50\"/> |     0     |           1          |     0    |    1   |\n",
    "| <img src=\"images/9.png\" alt=\"drawing\" width=\"50\"/> |     1     |           0          |     0    |    0   |\n",
    "\n",
    "Therefore,\n",
    "\n",
    "- `X_train` contains three features for each example.\n",
    "  - Brown Color (A value of `1` indicates \"Brown\" cap color and `0` indicates \"Red\" cap color)\n",
    "  - Tapering Shape (A value of `1` indicates \"Tapering Stalk Shape\" and `0` indicates \"Enlarging\" stalk shape)\n",
    "  - Solitary  (A value of `1` indicates \"Yes\" and `0` indicates \"No\")\n",
    "\n",
    "- `y_train` is whether the mushroom is edible.\n",
    "  - `y = 1` indicates edible\n",
    "  - `y = 0` indicates poisonous"
   ]
  },
  {
   "cell_type": "code",
   "execution_count": 92,
   "id": "9f9786866ff56a37",
   "metadata": {
    "deletable": false,
    "editable": false
   },
   "outputs": [],
   "source": [
    "X_train = np.array([[1, 1, 1], [1, 0, 1], [1, 0, 0], [1, 0, 0], [1, 1, 1], [0, 1, 1], [0, 0, 0], [1, 0, 1], [0, 1, 0], [1, 0, 0]])\n",
    "y_train = np.array([1, 1, 0, 0, 1, 0, 0, 1, 1, 0])"
   ]
  },
  {
   "cell_type": "markdown",
   "id": "a393dd6166593138",
   "metadata": {},
   "source": [
    "## 5 - Decision Tree Refresher\n",
    "\n",
    "In this practice lab, you will build a decision tree based on the dataset provided.\n",
    "\n",
    "- Recall that the steps for building a decision tree are as follows:\n",
    "  - Start with all examples at the root node.\n",
    "  - Calculate information gain for splitting on all possible features, and pick the one with the highest information gain.\n",
    "  - Split dataset according to the selected feature, and create left and right branches of the tree.\n",
    "  - Keep repeating splitting process until stopping criteria is met.\n",
    "\n",
    "- In this lab, you'll implement the following functions, which will let you split a node into left and right branches using the feature with the highest information gain.\n",
    "  - Calculate the entropy at a node.\n",
    "  - Split the dataset at a node into left and right branches based on a given feature.\n",
    "  - Calculate the information gain from splitting on a given feature.\n",
    "  - Choose the feature that maximizes information gain.\n",
    "\n",
    "- We'll then use the helper functions you've implemented to build a decision tree by repeating the splitting process until the stopping criteria is met.\n",
    "  - For this lab, the stopping criteria we've chosen is setting a maximum depth of 2.\n",
    "\n",
    "### Calculate Entropy\n",
    "\n",
    "First, you'll write a helper function called `compute_entropy` that computes the entropy (measure of impurity) at a node.\n",
    "\n",
    "- The function takes in a numpy array ( `y` ) that indicates whether the examples in that node are edible ( `1` ) or poisonous( `0` ).\n",
    "\n",
    "Complete the `compute_entropy()` function below to:\n",
    "\n",
    "- Compute $p_1$, which is the fraction of examples that are edible (i.e. have value = `1` in `y` ).\n",
    "- The entropy is then calculated as\n",
    "\n",
    "$$\n",
    "H(p_1) = -p_1 \\text{log}_2(p_1) - (1- p_1) \\text{log}_2(1- p_1)\n",
    "$$\n",
    "\n",
    "Notes:\n",
    "\n",
    "- The log is calculated with base $2$.\n",
    "- For implementation purposes, $0\\text{log}_2(0) = 0$. That is, if `p_1 = 0` or `p_1 = 1` , set the entropy to `0` .\n",
    "- Make sure to check that the data at a node is not empty (i.e. `len(y) != 0` ). Return `0` if it is."
   ]
  },
  {
   "cell_type": "code",
   "execution_count": 93,
   "id": "45ed4ddf99ace635",
   "metadata": {
    "deletable": false
   },
   "outputs": [],
   "source": [
    "def compute_entropy(y):\n",
    "    entropy = 0.\n",
    "\n",
    "    if len(y) != 0:\n",
    "        p1 = len(y[y == 1]) / len(y)\n",
    "\n",
    "        if p1 != 0 and p1 != 1:\n",
    "            entropy = -p1 * np.log2(p1) - (1 - p1) * np.log2(1 - p1)\n",
    "        else:\n",
    "            entropy = 0.\n",
    "\n",
    "    return entropy"
   ]
  },
  {
   "cell_type": "markdown",
   "id": "f211fd1a9a90816b",
   "metadata": {},
   "source": [
    "### Split Dataset\n",
    "\n",
    "Next, you'll write a helper function called `split_dataset` that takes in the data at a node and a feature to split on and splits it into left and right branches. Later in the lab, you'll implement code to calculate how good the split is.\n",
    "\n",
    "- The function takes in the training data, the list of indices of data points at that node, along with the feature to split on.\n",
    "- It splits the data and returns the subset of indices at the left and the right branch.\n",
    "- For example, say we're starting at the root node (so `node_indices = [0,1,2,3,4,5,6,7,8,9]` ), and we chose to split on feature `0` , which is whether or not the example has a brown cap.\n",
    "    - The output of the function is then, `left_indices = [0,1,2,3,4,7,9]` (data points with brown cap) and `right_indices = [5,6,8]` (data points without a brown cap).\n",
    "\n",
    "| No. |                      Mushroom                      | Brown Cap | Tapering Stalk Shape | Solitary | Edible |\n",
    "|:---:|:--------------------------------------------------:|:---------:|:--------------------:|:--------:|:------:|\n",
    "|  0  | <img src=\"images/0.png\" alt=\"drawing\" width=\"50\"/> |     1     |           1          |     1    |    1   |\n",
    "|  1  | <img src=\"images/1.png\" alt=\"drawing\" width=\"50\"/> |     1     |           0          |     1    |    1   |\n",
    "|  2  | <img src=\"images/2.png\" alt=\"drawing\" width=\"50\"/> |     1     |           0          |     0    |    0   |\n",
    "|  3  | <img src=\"images/3.png\" alt=\"drawing\" width=\"50\"/> |     1     |           0          |     0    |    0   |\n",
    "|  4  | <img src=\"images/4.png\" alt=\"drawing\" width=\"50\"/> |     1     |           1          |     1    |    1   |\n",
    "|  5  | <img src=\"images/5.png\" alt=\"drawing\" width=\"50\"/> |     0     |           1          |     1    |    0   |\n",
    "|  6  | <img src=\"images/6.png\" alt=\"drawing\" width=\"50\"/> |     0     |           0          |     0    |    0   |\n",
    "|  7  | <img src=\"images/7.png\" alt=\"drawing\" width=\"50\"/> |     1     |           0          |     1    |    1   |\n",
    "|  8  | <img src=\"images/8.png\" alt=\"drawing\" width=\"50\"/> |     0     |           1          |     0    |    1   |\n",
    "|  9  | <img src=\"images/9.png\" alt=\"drawing\" width=\"50\"/> |     1     |           0          |     0    |    0   |\n",
    "\n",
    "Please complete the `split_dataset()` function shown below.\n",
    "\n",
    "- For each index in `node_indices` :\n",
    "  - If the value of `X` at that index for that feature is `1`, add the index to `left_indices` .\n",
    "  - If the value of `X` at that index for that feature is `0`, add the index to `right_indices` ."
   ]
  },
  {
   "cell_type": "code",
   "execution_count": 94,
   "id": "8d2bf7c51e9f181d",
   "metadata": {
    "deletable": false
   },
   "outputs": [],
   "source": [
    "def split_dataset(X, node_indices, feature):\n",
    "    left_indices = []\n",
    "    right_indices = []\n",
    "\n",
    "    for i in node_indices:\n",
    "        if X[i][feature] == 1:\n",
    "            left_indices.append(i)\n",
    "        else:\n",
    "            right_indices.append(i)\n",
    "\n",
    "    return left_indices, right_indices"
   ]
  },
  {
   "cell_type": "markdown",
   "id": "e2bb72ca6e0716fd",
   "metadata": {},
   "source": [
    "### Calculate Information Gain\n",
    "\n",
    "Next, you'll write a function called `information_gain` that takes in the training data, the indices at a node and a feature to split on and returns the information gain from the split.\n",
    "\n",
    "Please complete the `compute_information_gain()` function shown below to compute\n",
    "\n",
    "$$\n",
    "\\text{Information Gain} = H(p_1^\\text{node})- (w^{\\text{left}}H(p_1^\\text{left}) + w^{\\text{right}}H(p_1^\\text{right}))\n",
    "$$\n",
    "\n",
    "where\n",
    "\n",
    "- $H(p_1^\\text{node})$ is entropy at the node.\n",
    "- $H(p_1^\\text{left})$ and $H(p_1^\\text{right})$ are the entropies at the left and the right branches resulting from the split.\n",
    "- $w^{\\text{left}}$ and $w^{\\text{right}}$ are the proportion of examples at the left and right branch, respectively.\n",
    "\n",
    "Notes:\n",
    "\n",
    "- You can use the `compute_entropy()` function that you implemented above to calculate the entropy.\n",
    "- We've provided some starter code that uses the `split_dataset()` function you implemented above to split the dataset."
   ]
  },
  {
   "cell_type": "code",
   "execution_count": 95,
   "id": "84f3874eb077c6d7",
   "metadata": {
    "deletable": false
   },
   "outputs": [],
   "source": [
    "def compute_information_gain(X, y, node_indices, feature):\n",
    "    left_indices, right_indices = split_dataset(X, node_indices, feature)\n",
    "\n",
    "    X_node, y_node = X[node_indices], y[node_indices]\n",
    "    X_left, y_left = X[left_indices], y[left_indices]\n",
    "    X_right, y_right = X[right_indices], y[right_indices]\n",
    "\n",
    "    information_gain = 0\n",
    "\n",
    "    node_entropy = compute_entropy(y_node)\n",
    "    left_entropy = compute_entropy(y_left)\n",
    "    right_entropy = compute_entropy(y_right)\n",
    "\n",
    "    w_left = len(X_left) / len(X_node)\n",
    "    w_right = len(X_right) / len(X_node)\n",
    "\n",
    "    information_gain = node_entropy - (w_left * left_entropy + w_right * right_entropy)\n",
    "\n",
    "    return information_gain"
   ]
  },
  {
   "cell_type": "markdown",
   "id": "aea7afcc211a8229",
   "metadata": {},
   "source": [
    "### Get Best Split\n",
    "\n",
    "Now let's write a function to get the best feature to split on by computing the information gain from each feature as we did above and returning the feature that gives the maximum information gain.\n",
    "\n",
    "Please complete the `get_best_split()` function shown below.\n",
    "\n",
    "- The function takes in the training data, along with the indices of datapoint at that node.\n",
    "- The output of the function is the feature that gives the maximum information gain.\n",
    "  - You can use the `compute_information_gain()` function to iterate through the features and calculate the information for each feature."
   ]
  },
  {
   "cell_type": "code",
   "execution_count": 96,
   "id": "a3ebfcecb02290bc",
   "metadata": {
    "deletable": false
   },
   "outputs": [],
   "source": [
    "def get_best_split(X, y, node_indices):\n",
    "    num_features = X.shape[1]\n",
    "    best_feature = -1\n",
    "    max_info_gain = 0\n",
    "\n",
    "    for feature in range(num_features):\n",
    "        info_gain = compute_information_gain(X, y, node_indices, feature)\n",
    "\n",
    "        if info_gain > max_info_gain:\n",
    "            max_info_gain = info_gain\n",
    "            best_feature = feature\n",
    "\n",
    "    return best_feature"
   ]
  },
  {
   "cell_type": "markdown",
   "id": "c48fdfec5cde13a1",
   "metadata": {},
   "source": [
    "## 6 - Building the Tree"
   ]
  },
  {
   "cell_type": "code",
   "execution_count": 97,
   "id": "5b8917ad228f3463",
   "metadata": {
    "deletable": false,
    "editable": false
   },
   "outputs": [
    {
     "name": "stdout",
     "output_type": "stream",
     "text": [
      " Depth 0, Root: Split on feature: 2\n",
      "- Depth 1, Left: Split on feature: 0\n",
      "  -- Left leaf node with indices [0, 1, 4, 7]\n",
      "  -- Right leaf node with indices [5]\n",
      "- Depth 1, Right: Split on feature: 1\n",
      "  -- Left leaf node with indices [8]\n",
      "  -- Right leaf node with indices [2, 3, 6, 9]\n"
     ]
    }
   ],
   "source": [
    "def build_tree_recursive(X, y, node_indices, branch_name, max_depth, current_depth):\n",
    "    if current_depth == max_depth:\n",
    "        formatting = \" \" * current_depth + \"-\" * current_depth\n",
    "        print(formatting, \"%s leaf node with indices\" % branch_name, node_indices)\n",
    "        return\n",
    "\n",
    "    best_feature = get_best_split(X, y, node_indices)\n",
    "\n",
    "    formatting = \"-\" * current_depth\n",
    "    print(\"%s Depth %d, %s: Split on feature: %d\" % (formatting, current_depth, branch_name, best_feature))\n",
    "\n",
    "    left_indices, right_indices = split_dataset(X, node_indices, best_feature)\n",
    "    tree.append((left_indices, right_indices, best_feature))\n",
    "\n",
    "    build_tree_recursive(X, y, left_indices, \"Left\", max_depth, current_depth + 1)\n",
    "    build_tree_recursive(X, y, right_indices, \"Right\", max_depth, current_depth + 1)\n",
    "\n",
    "\n",
    "tree = []\n",
    "root_indices = [0, 1, 2, 3, 4, 5, 6, 7, 8, 9]\n",
    "\n",
    "build_tree_recursive(X_train, y_train, root_indices, \"Root\", max_depth=2, current_depth=0)"
   ]
  }
 ],
 "metadata": {
  "kernelspec": {
   "display_name": "Python 3",
   "language": "python",
   "name": "python3"
  },
  "language_info": {
   "codemirror_mode": {
    "name": "ipython",
    "version": 3
   },
   "file_extension": ".py",
   "mimetype": "text/x-python",
   "name": "python",
   "nbconvert_exporter": "python",
   "pygments_lexer": "ipython3",
   "version": "3.7.6"
  }
 },
 "nbformat": 4,
 "nbformat_minor": 5
}
